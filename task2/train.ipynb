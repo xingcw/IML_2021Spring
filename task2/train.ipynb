{
 "metadata": {
  "language_info": {
   "codemirror_mode": {
    "name": "ipython",
    "version": 3
   },
   "file_extension": ".py",
   "mimetype": "text/x-python",
   "name": "python",
   "nbconvert_exporter": "python",
   "pygments_lexer": "ipython3",
   "version": "3.8.5"
  },
  "orig_nbformat": 2,
  "kernelspec": {
   "name": "python38564bit54ffc6b056264bc9a0155188c2992534",
   "display_name": "Python 3.8.5 64-bit"
  },
  "metadata": {
   "interpreter": {
    "hash": "31f2aee4e71d21fbe5cf8b01ff0e069b9275f58929596ceb00d14d90e3e16cd6"
   }
  }
 },
 "nbformat": 4,
 "nbformat_minor": 2,
 "cells": [
  {
   "cell_type": "code",
   "execution_count": 3,
   "metadata": {},
   "outputs": [],
   "source": [
    "import csv\n",
    "import numpy as np \n",
    "import sklearn\n",
    "import pandas as pd\n",
    "from sklearn.gaussian_process.kernels import RBF\n",
    "from sklearn.model_selection import train_test_split\n",
    "tf=pd.read_csv('train_new_feature.csv', sep=',',header=0)\n",
    "tl = pd.read_csv('train_labels.csv',sep=',',header=0)\n",
    "tf = tf.astype(float)\n",
    "tl = tl.astype(float)\n",
    "tl = tl.sort_values(['pid'])\n",
    "tl_np = np.asarray(tl)\n",
    "tl_np = tl_np.reshape(tl_np.shape[0],-1)\n",
    "tf2 = tf.groupby(['pid'])\n",
    "tf3= []\n",
    "for p in tf2:\n",
    "    tf3.append(np.asarray(p[1].values).reshape(-1,))\n",
    "tf_np = np.asarray(tf3)\n",
    "x_train, x_test, y_train, y_test = train_test_split(tf_np, tl_np[:,1], test_size = 0.3)\n",
    "#tf=pd.read_csv('train_features.csv', sep=',',header=0)#skiprows = 1)\n",
    "#tf = pd.read_csv('test_features.csv',sep=',',header=0)#skiprows = 1)"
   ]
  },
  {
   "cell_type": "code",
   "execution_count": 1,
   "metadata": {},
   "outputs": [],
   "source": [
    "import csv\n",
    "import numpy as np \n",
    "import sklearn\n",
    "import pandas as pd\n",
    "from sklearn.gaussian_process.kernels import RBF\n",
    "from sklearn.model_selection import train_test_split\n",
    "tf=pd.read_csv('train_new_feature.csv', sep=',',header=0)\n",
    "tl = pd.read_csv('train_labels.csv',sep=',',header=0)\n",
    "tf = tf.astype(float)\n",
    "tl = tl.astype(float)\n",
    "tl = tl.sort_values(['pid'])\n",
    "tl_np = np.asarray(tl['LABEL_Heartrate'])\n",
    "tl_np = tl_np.reshape(tl_np.shape[0],-1)\n",
    "tf2 = tf.groupby(['pid'])\n",
    "tf3= []\n",
    "for p in tf2:\n",
    "    tf3.append(np.asarray(p[1]['Heartrate']).reshape(-1,))\n",
    "tf_np = np.asarray(tf3)\n",
    "x_train, x_test, y_train, y_test = train_test_split(tf_np, tl_np, test_size = 0.3)"
   ]
  },
  {
   "cell_type": "code",
   "execution_count": 5,
   "metadata": {},
   "outputs": [
    {
     "output_type": "stream",
     "name": "stdout",
     "text": [
      "77.25740587887582\n"
     ]
    }
   ],
   "source": [
    "from sklearn import svm\n",
    "from sklearn.pipeline import make_pipeline\n",
    "from sklearn.preprocessing import StandardScaler\n",
    "x_train, x_test, y_train, y_test = train_test_split(tf_np[:,-2:], tl_np.reshape(-1,), test_size = 0.3)\n",
    "clf = svm.SVR(gamma='scale')\n",
    "clf.fit(x_train, y_train)\n",
    "y_pred = clf.predict(x_test)\n",
    "print (np.mean((y_pred-y_test)**2))"
   ]
  },
  {
   "cell_type": "code",
   "execution_count": 8,
   "metadata": {},
   "outputs": [],
   "source": [
    "tf1 = pd.read_csv('train_features.csv', sep=',',header=0)#skiprows = 1)\n",
    "#tf = pd.read_csv('test_features.csv',sep=',',header=0)#skiprows = 1)"
   ]
  },
  {
   "cell_type": "code",
   "execution_count": 10,
   "metadata": {},
   "outputs": [
    {
     "output_type": "execute_result",
     "data": {
      "text/plain": [
       "0         94.0\n",
       "1         99.0\n",
       "2         92.0\n",
       "3         88.0\n",
       "4         81.0\n",
       "          ... \n",
       "227935    80.0\n",
       "227936    83.0\n",
       "227937    80.0\n",
       "227938    75.0\n",
       "227939    79.0\n",
       "Name: Heartrate, Length: 227940, dtype: float64"
      ]
     },
     "metadata": {},
     "execution_count": 10
    }
   ],
   "source": [
    "tf1 = tf1.sort_values(['pid',['Time']])\n",
    "tf2 = tf1.groupby(['pid'])"
   ]
  },
  {
   "cell_type": "code",
   "execution_count": 4,
   "metadata": {},
   "outputs": [
    {
     "output_type": "stream",
     "name": "stdout",
     "text": [
      "[[0. 0. 0. 0. 0. 0. 0. 0. 0. 0.]\n [1. 1. 1. 1. 1. 1. 1. 1. 1. 1.]\n [1. 1. 1. 1. 1. 1. 1. 1. 1. 1.]]\n"
     ]
    }
   ],
   "source": [
    "import numpy as np \n",
    "a = np.zeros((1,10))\n",
    "b=np.ones((2,10))\n",
    "print(np.concatenate((a,b),axis=0))"
   ]
  }
 ]
}